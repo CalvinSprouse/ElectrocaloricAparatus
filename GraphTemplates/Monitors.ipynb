{
 "cells": [
  {
   "attachments": {},
   "cell_type": "markdown",
   "metadata": {},
   "source": [
    "### Monitoring Graph Templates\n",
    "\n",
    "This is the primary graph(s) which will display a live view of measurable quantities.\n",
    "\n",
    "There will be several graphs to represent controlled quantities.\n",
    "\n",
    "1. Temperature vs Time graph to represent the temperature of the sample carrier and the temperature of the sample itself\n",
    "2. Current vs time graph to represent the amount of current going into the resistive heater\n",
    "3. Voltage vs time graph to represent the voltage placed accrossed a peltier cooler\n",
    "4. Voltage vs time graph to represent the potential placed accross the sample\n",
    "\n",
    "In the future the graphs for the resistive heater and peltier cooler should be combined by both plotting watts over time.\n",
    "\n",
    "The voltage vs time graph of the potential accross the sample may be replaced by an electric field accross the sample? Potential is easier to work with for now though and on the graphing side not much would change."
   ]
  },
  {
   "cell_type": "code",
   "execution_count": 14,
   "metadata": {},
   "outputs": [],
   "source": [
    "# imports\n",
    "import collections\n",
    "\n",
    "import matplotlib.pyplot as plt\n",
    "import numpy as np\n",
    "from matplotlib.animation import FuncAnimation\n",
    "\n",
    "# this is just used to generate mock live data\n",
    "import psutil"
   ]
  },
  {
   "cell_type": "code",
   "execution_count": 15,
   "metadata": {},
   "outputs": [
    {
     "name": "stdout",
     "output_type": "stream",
     "text": [
      "CPU: deque([0.0, 0.0, 0.0, 0.0, 0.0, 0.0, 0.0, 0.0, 0.0, 0.0])\n"
     ]
    }
   ],
   "source": [
    "# define data storing deque\n",
    "# a deque is kind of like a fixed length list\n",
    "# values added to the end shove values\n",
    "# from the front away\n",
    "cpu = collections.deque(np.zeros(10))\n",
    "print(f\"CPU: {cpu}\")"
   ]
  },
  {
   "cell_type": "code",
   "execution_count": 16,
   "metadata": {},
   "outputs": [
    {
     "ename": "KeyboardInterrupt",
     "evalue": "",
     "output_type": "error",
     "traceback": [
      "\u001b[0;31m---------------------------------------------------------------------------\u001b[0m",
      "\u001b[0;31mKeyboardInterrupt\u001b[0m                         Traceback (most recent call last)",
      "Cell \u001b[0;32mIn[16], line 7\u001b[0m\n\u001b[1;32m      4\u001b[0m     cpu\u001b[39m.\u001b[39mappend(psutil\u001b[39m.\u001b[39mcpu_percent(interval\u001b[39m=\u001b[39m\u001b[39m1\u001b[39m))\n\u001b[1;32m      6\u001b[0m \u001b[39m# function test\u001b[39;00m\n\u001b[0;32m----> 7\u001b[0m update_deque()\n\u001b[1;32m      8\u001b[0m \u001b[39mprint\u001b[39m(\u001b[39mf\u001b[39m\u001b[39m\"\u001b[39m\u001b[39mCPU: \u001b[39m\u001b[39m{\u001b[39;00mcpu\u001b[39m}\u001b[39;00m\u001b[39m\"\u001b[39m)\n",
      "Cell \u001b[0;32mIn[16], line 4\u001b[0m, in \u001b[0;36mupdate_deque\u001b[0;34m()\u001b[0m\n\u001b[1;32m      2\u001b[0m \u001b[39mdef\u001b[39;00m \u001b[39mupdate_deque\u001b[39m():\n\u001b[1;32m      3\u001b[0m     cpu\u001b[39m.\u001b[39mpopleft()\n\u001b[0;32m----> 4\u001b[0m     cpu\u001b[39m.\u001b[39mappend(psutil\u001b[39m.\u001b[39;49mcpu_percent(interval\u001b[39m=\u001b[39;49m\u001b[39m1\u001b[39;49m))\n",
      "File \u001b[0;32m/Applications/anaconda3/lib/python3.10/site-packages/psutil/__init__.py:1747\u001b[0m, in \u001b[0;36mcpu_percent\u001b[0;34m(interval, percpu)\u001b[0m\n\u001b[1;32m   1745\u001b[0m \u001b[39mif\u001b[39;00m blocking:\n\u001b[1;32m   1746\u001b[0m     t1 \u001b[39m=\u001b[39m cpu_times()\n\u001b[0;32m-> 1747\u001b[0m     time\u001b[39m.\u001b[39;49msleep(interval)\n\u001b[1;32m   1748\u001b[0m \u001b[39melse\u001b[39;00m:\n\u001b[1;32m   1749\u001b[0m     t1 \u001b[39m=\u001b[39m _last_cpu_times\n",
      "\u001b[0;31mKeyboardInterrupt\u001b[0m: "
     ]
    }
   ],
   "source": [
    "# create a function to update the deque\n",
    "def update_deque():\n",
    "    cpu.popleft()\n",
    "    cpu.append(psutil.cpu_percent(interval=1))\n",
    "\n",
    "# function test\n",
    "update_deque()\n",
    "print(f\"CPU: {cpu}\")"
   ]
  },
  {
   "cell_type": "code",
   "execution_count": null,
   "metadata": {},
   "outputs": [
    {
     "name": "stderr",
     "output_type": "stream",
     "text": [
      "/var/folders/5d/bvscdv6j3d71wbxsvd8zwbs80000gn/T/ipykernel_5178/1909581475.py:25: UserWarning: frames=None which we can infer the length of, did not pass an explicit *save_count* and passed cache_frame_data=True.  To avoid a possibly unbounded cache, frame data caching has been disabled. To suppress this warning either pass `cache_frame_data=False` or `save_count=MAX_FRAMES`.\n",
      "  ani = FuncAnimation(fig, update_figure, interval=100)\n"
     ]
    },
    {
     "data": {
      "image/png": "[encoded data removed]",
      "text/plain": [
       "<Figure size 1200x600 with 1 Axes>"
      ]
     },
     "metadata": {},
     "output_type": "display_data"
    },
    {
     "ename": "KeyboardInterrupt",
     "evalue": "",
     "output_type": "error",
     "traceback": [
      "\u001b[0;31m---------------------------------------------------------------------------\u001b[0m",
      "\u001b[0;31mKeyboardInterrupt\u001b[0m                         Traceback (most recent call last)",
      "Cell \u001b[0;32mIn[13], line 29\u001b[0m\n\u001b[1;32m     26\u001b[0m plt\u001b[39m.\u001b[39mshow()\n\u001b[1;32m     28\u001b[0m \u001b[39mimport\u001b[39;00m \u001b[39mtime\u001b[39;00m\n\u001b[0;32m---> 29\u001b[0m \u001b[39mwhile\u001b[39;00m \u001b[39mTrue\u001b[39;00m: time\u001b[39m.\u001b[39msleep(\u001b[39m0.1\u001b[39m)\n",
      "\u001b[0;31mKeyboardInterrupt\u001b[0m: "
     ]
    }
   ],
   "source": [
    "# create the figure and define a function to update the figure\n",
    "fig = plt.figure(figsize=(12,6), facecolor=\"#DEDEDE\")\n",
    "\n",
    "ax = plt.subplot(121)\n",
    "ax.set_title(\"CPU Utilization Percent over Time\")\n",
    "ax.set_xlabel(\"Time [seconds]\")\n",
    "ax.set_ylabel(\"Utilization percent\")\n",
    "\n",
    "\n",
    "# update function\n",
    "def update_figure():\n",
    "    # update the deque\n",
    "    update_deque()\n",
    "\n",
    "    # clear axis\n",
    "    ax.cla()\n",
    "\n",
    "    # plot cpu data\n",
    "    ax.plot(cpu)\n",
    "    ax.scatter(len(cpu)-1, cpu[-1])\n",
    "    ax.text(len(cpu)-1, cpu[-1]+2, \"{}%\".format(cpu[-1]))\n",
    "    ax.set_ylim(0, 100)\n",
    "\n",
    "# animate plot\n",
    "ani = FuncAnimation(fig, update_figure, interval=100)\n",
    "plt.show()"
   ]
  },
  {
   "cell_type": "code",
   "execution_count": null,
   "metadata": {},
   "outputs": [],
   "source": []
  }
 ],
 "metadata": {
  "kernelspec": {
   "display_name": "base",
   "language": "python",
   "name": "python3"
  },
  "language_info": {
   "codemirror_mode": {
    "name": "ipython",
    "version": 3
   },
   "file_extension": ".py",
   "mimetype": "text/x-python",
   "name": "python",
   "nbconvert_exporter": "python",
   "pygments_lexer": "ipython3",
   "version": "3.10.9"
  },
  "orig_nbformat": 4
 },
 "nbformat": 4,
 "nbformat_minor": 2
}
